{
 "cells": [
  {
   "cell_type": "markdown",
   "metadata": {},
   "source": [
    "# Detect the colors of each address in a folder\n"
   ]
  },
  {
   "cell_type": "markdown",
   "metadata": {},
   "source": [
    "Ideally this should be run in colab or a machine with good reasources."
   ]
  },
  {
   "cell_type": "code",
   "execution_count": null,
   "metadata": {},
   "outputs": [],
   "source": [
    "# In colab one can download all the images to a file then upload to drive and get them from from \n",
    "\n",
    "# google.colab import drive\n",
    "# drive.mount('/content/drive') "
   ]
  },
  {
   "cell_type": "code",
   "execution_count": null,
   "metadata": {},
   "outputs": [],
   "source": [
    "# imports\n",
    "import os\n",
    "from tabulate import tabulate"
   ]
  },
  {
   "cell_type": "markdown",
   "metadata": {},
   "source": [
    "## Load images from source directory:"
   ]
  },
  {
   "cell_type": "code",
   "execution_count": null,
   "metadata": {},
   "outputs": [],
   "source": [
    "dataset = \"borgundvegen1\"\n",
    "Source = os.listdir(f'data/buildings/{dataset}')\n",
    "print(Source[0])\n",
    "\n",
    "# Other options\n",
    "options = os.listdir(\"data/buildings\")[:4]\n",
    "print(f'Other options: {options}')"
   ]
  },
  {
   "cell_type": "markdown",
   "metadata": {},
   "source": [
    "Making a class and helpful functions for a better structure."
   ]
  },
  {
   "cell_type": "code",
   "execution_count": null,
   "metadata": {},
   "outputs": [],
   "source": [
    "class Building:\n",
    "    def __init__(self, addr, pC, city_, lat, long, dir, type):\n",
    "        self.address = addr\n",
    "        self.postalCode = pC\n",
    "        self.city = city_\n",
    "        self.latitude = lat\n",
    "        self.longitude = long\n",
    "        self.filetype = type\n",
    "        self.directions = [dir]\n",
    "        self.filenames = []\n",
    "        self.predictions = {\n",
    "                                'North':(\"empty\", 0),\n",
    "                                'East': (\"empty\", 0),\n",
    "                                'West': (\"empty\", 0),\n",
    "                                'South': (\"empty\", 0)\n",
    "                            }\n",
    "        self.predicted = \"None\"\n",
    "    \n",
    "    def getTableItems(self):\n",
    "        return [\n",
    "                    self.address,\n",
    "                    f\"{self.postalCode}, {self.city}\",\n",
    "                    f\"{self.latitude} N\",\n",
    "                    f\"{self.longitude} E\", \n",
    "                    len(self.directions),\n",
    "                    self.predicted, \n",
    "                    self.predictions[\"North\"],\n",
    "                    self.predictions[\"East\"],\n",
    "                    self.predictions[\"West\"],\n",
    "                    self.predictions[\"South\"],\n",
    "                ]\n",
    "    \n",
    "    def addPrediction(self, filename: str, prediction:tuple):\n",
    "        direction = filename.split('_')[-1].split('.')[0]\n",
    "        self.predictions[direction] = prediction\n",
    "    \n",
    "    def MakePrediction(self):\n",
    "        votes = {}\n",
    "        for key, predictionTuple in self.predictions.items():\n",
    "            class_, conf_ = predictionTuple\n",
    "            # Choosing the one with the highest combined confidence\n",
    "            if class_ == \"empty\":\n",
    "                continue\n",
    "            elif class_ not in votes:\n",
    "                votes[class_] = float(conf_)\n",
    "            else: \n",
    "                votes[class_] += float(conf_)\n",
    "        if len(votes) == 0:\n",
    "            self.predicted = (\"empty\", 0)\n",
    "        else:\n",
    "            self.predicted = max(votes, key=votes.get)\n",
    "            \n",
    "    def getDumpformat(self):\n",
    "        return [\n",
    "                    self.postalCode,\n",
    "                    self.city,\n",
    "                    self.latitude,\n",
    "                    self.longitude,\n",
    "                    self.predicted,\n",
    "                    self.predictions[\"North\"],\n",
    "                    self.predictions[\"East\"],\n",
    "                    self.predictions[\"West\"],\n",
    "                    self.predictions[\"South\"],\n",
    "                ]"
   ]
  },
  {
   "cell_type": "code",
   "execution_count": null,
   "metadata": {},
   "outputs": [],
   "source": [
    "def readInSources(Source):\n",
    "    Buildings = dict()\n",
    "    for filename in Source:\n",
    "        filename_splitted = filename.split('_')\n",
    "        \n",
    "        # If the filename is not in the correct format, skip it. This means it is a building plot or something like that\n",
    "        if filename_splitted[0].isnumeric(): \n",
    "            print(f\"bad file encounterd: {filename}\")\n",
    "            print()\n",
    "            continue\n",
    "        # else continue \n",
    "        \n",
    "        address, postalCode, city, latitude, longitude, directionAndFiletype = filename_splitted\n",
    "        direction, filetype = directionAndFiletype.split('.')\n",
    "        \n",
    "        if address in Buildings:\n",
    "            Buildings[address].directions.append(direction)\n",
    "        else:\n",
    "            Buildings[address] = Building(address, postalCode, city, latitude, longitude, direction, filetype)\n",
    "        Buildings[address].filenames.append(f\"data/buildings/{dataset}/{filename}\")\n",
    "    return Buildings\n",
    "            "
   ]
  },
  {
   "cell_type": "code",
   "execution_count": null,
   "metadata": {},
   "outputs": [],
   "source": [
    "def PrintStatistics(Buildings):\n",
    "    header = ['Address', 'Postal address', 'Lat', 'Long', 'Directions', 'Predicted','North', 'East', 'West', 'South']\n",
    "\n",
    "    tableContent = []\n",
    "    for _, building in Buildings.items():\n",
    "        tableContent.append(building.getTableItems())\n",
    "    print(tabulate(tableContent, headers=header))"
   ]
  },
  {
   "cell_type": "code",
   "execution_count": null,
   "metadata": {},
   "outputs": [],
   "source": [
    "SourceBuildings = readInSources(Source)\n",
    "print(\"Table before runnning the model\")\n",
    "PrintStatistics(SourceBuildings)"
   ]
  },
  {
   "cell_type": "markdown",
   "metadata": {},
   "source": [
    "## Loading the model"
   ]
  },
  {
   "cell_type": "code",
   "execution_count": null,
   "metadata": {},
   "outputs": [],
   "source": [
    "# More imports\n",
    "from IPython import display\n",
    "display.clear_output()\n",
    "import ultralytics\n",
    "ultralytics.checks()\n",
    "from ultralytics import YOLO\n",
    "from IPython.display import display, Image"
   ]
  },
  {
   "cell_type": "code",
   "execution_count": null,
   "metadata": {},
   "outputs": [],
   "source": [
    "pathToModel = \"data/models/v12_smaller.pt\"\n",
    "\n",
    "model = YOLO(pathToModel)"
   ]
  },
  {
   "cell_type": "markdown",
   "metadata": {},
   "source": [
    "Helpful functions, (similar to the one in `testPtFile.ipynb` inside `Prototyping/StandardTestOfModel/`)"
   ]
  },
  {
   "cell_type": "code",
   "execution_count": null,
   "metadata": {},
   "outputs": [],
   "source": [
    "def gradeResults(result):\n",
    "    predictions = []\n",
    "    \n",
    "    imgWidth = result[0].orig_shape[0]\n",
    "    imgHeight = result[0].orig_shape[1]\n",
    "    \n",
    "    for box in result[0].boxes:\n",
    "        predictedClass = model.names[int(box.cls)]\n",
    "        confidence = round(float(box.conf), 3)\n",
    "        \n",
    "        x, y, w, h = box.xywh[0]\n",
    "        x_offset = imgWidth/2 - (x)\n",
    "        y_offset = imgHeight/2 - (y)\n",
    "        offset = x_offset**2 + y_offset**2\n",
    "        predictions.append((predictedClass, confidence, offset))\n",
    "    # Outputs list of guesses, confidence, and offset from center.\n",
    "    return predictions\n",
    "\n",
    "def chooseTheMiddleOne(predictions):\n",
    "    if len(predictions) == 0:\n",
    "        return \"empty\", 0\n",
    "    # Sorts by offset from center\n",
    "    predictions.sort(key=lambda x: x[2])\n",
    "    \n",
    "    minAcceptableOffset = 400\n",
    "    if predictions[0][2] > minAcceptableOffset**2:\n",
    "        return \"bad\", 0\n",
    "    \n",
    "    MiddleBoxClass, confidence = predictions[0][:-1]\n",
    "    return (MiddleBoxClass, confidence)"
   ]
  },
  {
   "cell_type": "markdown",
   "metadata": {},
   "source": [
    "Making the predictions"
   ]
  },
  {
   "cell_type": "code",
   "execution_count": null,
   "metadata": {},
   "outputs": [],
   "source": [
    "for building in SourceBuildings.values():\n",
    "    for filename in building.filenames:\n",
    "        ProcessedImage = model(filename)\n",
    "        gradedPredictions = gradeResults(ProcessedImage)\n",
    "        pred = chooseTheMiddleOne(gradedPredictions)\n",
    "        building.addPrediction(filename, pred)\n",
    "    building.MakePrediction()"
   ]
  },
  {
   "cell_type": "code",
   "execution_count": null,
   "metadata": {},
   "outputs": [],
   "source": [
    "PrintStatistics(SourceBuildings)"
   ]
  },
  {
   "cell_type": "code",
   "execution_count": null,
   "metadata": {},
   "outputs": [],
   "source": [
    "import json\n",
    "\n",
    "def DumpResults(Buildings, postCode):\n",
    "    DumpDictionary = {}\n",
    "    for addr in Buildings:\n",
    "      DumpDictionary[addr] = Buildings[addr].getDumpformat()\n",
    "    with open(f'result_{postCode}.json', 'w') as fp:\n",
    "        json.dump(DumpDictionary, fp)"
   ]
  }
 ],
 "metadata": {
  "kernelspec": {
   "display_name": "Python 3",
   "language": "python",
   "name": "python3"
  },
  "language_info": {
   "codemirror_mode": {
    "name": "ipython",
    "version": 3
   },
   "file_extension": ".py",
   "mimetype": "text/x-python",
   "name": "python",
   "nbconvert_exporter": "python",
   "pygments_lexer": "ipython3",
   "version": "3.9.13"
  },
  "orig_nbformat": 4
 },
 "nbformat": 4,
 "nbformat_minor": 2
}
