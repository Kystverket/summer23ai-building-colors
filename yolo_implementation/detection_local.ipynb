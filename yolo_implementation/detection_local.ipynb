{
 "cells": [
  {
   "cell_type": "markdown",
   "metadata": {},
   "source": [
    "# Detect the colors of each address in a folder\n"
   ]
  },
  {
   "cell_type": "markdown",
   "metadata": {},
   "source": [
    "Ideally this should be run in colab or a machine with good reasources."
   ]
  },
  {
   "cell_type": "code",
   "execution_count": null,
   "metadata": {},
   "outputs": [],
   "source": [
    "# In colab one can download all the images to a file then upload to drive and get them from from \n",
    "\n",
    "# google.colab import drive\n",
    "# drive.mount('/content/drive') "
   ]
  },
  {
   "cell_type": "code",
   "execution_count": 1,
   "metadata": {},
   "outputs": [],
   "source": [
    "# imports\n",
    "import os\n",
    "from tabulate import tabulate"
   ]
  },
  {
   "cell_type": "markdown",
   "metadata": {},
   "source": [
    "## Load images from source directory:"
   ]
  },
  {
   "cell_type": "code",
   "execution_count": 28,
   "metadata": {},
   "outputs": [
    {
     "name": "stdout",
     "output_type": "stream",
     "text": [
      "Borgundvegen168B_6008_AALESUND_62.47102613101382_6.20102655645523_East.png\n",
      "Other options: ['aspoey', 'bjoerkavaagdalen', 'borgundvegen1', 'borgundvegen2']\n"
     ]
    }
   ],
   "source": [
    "#If using Colab, make sure to input the right path to your dataset\n",
    "dataset = \"borgundvegen1\"\n",
    "Source = os.listdir(f'data/buildings/{dataset}')\n",
    "print(Source[0])\n",
    "\n",
    "# Other options\n",
    "options = os.listdir(\"data/buildings\")[:4]\n",
    "print(f'Other options: {options}')"
   ]
  },
  {
   "cell_type": "markdown",
   "metadata": {},
   "source": [
    "Making a class and helpful functions for a better structure."
   ]
  },
  {
   "cell_type": "code",
   "execution_count": 3,
   "metadata": {},
   "outputs": [],
   "source": [
    "class Building:\n",
    "    def __init__(self, addr, pC, city_, lat, long, dir, type):\n",
    "        self.address = addr\n",
    "        self.postalCode = pC\n",
    "        self.city = city_\n",
    "        self.latitude = lat\n",
    "        self.longitude = long\n",
    "        self.filetype = type\n",
    "        self.directions = [dir]\n",
    "        self.filenames = []\n",
    "        self.predictions = {\n",
    "                                'North':(\"empty\", 0),\n",
    "                                'East': (\"empty\", 0),\n",
    "                                'West': (\"empty\", 0),\n",
    "                                'South': (\"empty\", 0)\n",
    "                            }\n",
    "        self.predicted = \"None\"\n",
    "    \n",
    "    def getTableItems(self):\n",
    "        return [\n",
    "                    self.address,\n",
    "                    f\"{self.postalCode}, {self.city}\",\n",
    "                    f\"{self.latitude} N\",\n",
    "                    f\"{self.longitude} E\", \n",
    "                    len(self.directions),\n",
    "                    self.predicted, \n",
    "                    self.predictions[\"North\"],\n",
    "                    self.predictions[\"East\"],\n",
    "                    self.predictions[\"West\"],\n",
    "                    self.predictions[\"South\"],\n",
    "                ]\n",
    "    \n",
    "    def addPrediction(self, filename: str, prediction:tuple):\n",
    "        direction = filename.split('_')[-1].split('.')[0]\n",
    "        self.predictions[direction] = prediction\n",
    "    \n",
    "    def MakePrediction(self):\n",
    "        votes = {}\n",
    "        for key, predictionTuple in self.predictions.items():\n",
    "            class_, conf_ = predictionTuple\n",
    "            # Choosing the one with the highest combined confidence\n",
    "            if class_ == \"empty\":\n",
    "                continue\n",
    "            elif class_ not in votes:\n",
    "                votes[class_] = float(conf_)\n",
    "            else: \n",
    "                votes[class_] += float(conf_)\n",
    "        if len(votes) == 0:\n",
    "            self.predicted = (\"empty\", 0)\n",
    "        else:\n",
    "            self.predicted = max(votes, key=votes.get)\n",
    "            \n",
    "    def getDumpformat(self):\n",
    "        return [\n",
    "                    self.postalCode,\n",
    "                    self.city,\n",
    "                    self.latitude,\n",
    "                    self.longitude,\n",
    "                    self.predicted,\n",
    "                    self.predictions[\"North\"],\n",
    "                    self.predictions[\"East\"],\n",
    "                    self.predictions[\"West\"],\n",
    "                    self.predictions[\"South\"],\n",
    "                ]"
   ]
  },
  {
   "cell_type": "code",
   "execution_count": 4,
   "metadata": {},
   "outputs": [],
   "source": [
    "def readInSources(Source):\n",
    "    Buildings = dict()\n",
    "    for filename in Source:\n",
    "        filename_splitted = filename.split('_')\n",
    "        \n",
    "        # If the filename is not in the correct format, skip it. This means it is a building plot or something like that\n",
    "        if filename_splitted[0].isnumeric(): \n",
    "            print(f\"bad file encounterd: {filename}\")\n",
    "            print()\n",
    "            continue\n",
    "        # else continue \n",
    "        \n",
    "        address, postalCode, city, latitude, longitude, directionAndFiletype = filename_splitted\n",
    "        direction, filetype = directionAndFiletype.split('.')\n",
    "        \n",
    "        if address in Buildings:\n",
    "            Buildings[address].directions.append(direction)\n",
    "        else:\n",
    "            Buildings[address] = Building(address, postalCode, city, latitude, longitude, direction, filetype)\n",
    "        Buildings[address].filenames.append(f\"data/buildings/{dataset}/{filename}\")\n",
    "    return Buildings\n",
    "            "
   ]
  },
  {
   "cell_type": "code",
   "execution_count": 5,
   "metadata": {},
   "outputs": [],
   "source": [
    "def PrintStatistics(Buildings):\n",
    "    header = ['Address', 'Postal address', 'Lat', 'Long', 'Directions', 'Predicted','North', 'East', 'West', 'South']\n",
    "\n",
    "    tableContent = []\n",
    "    for _, building in Buildings.items():\n",
    "        tableContent.append(building.getTableItems())\n",
    "    print(tabulate(tableContent, headers=header))"
   ]
  },
  {
   "cell_type": "code",
   "execution_count": 8,
   "metadata": {},
   "outputs": [
    {
     "name": "stdout",
     "output_type": "stream",
     "text": [
      "Table before runnning the model\n",
      "Address           Postal address    Lat                   Long                    Directions  Predicted    North         East          West          South\n",
      "----------------  ----------------  --------------------  --------------------  ------------  -----------  ------------  ------------  ------------  ------------\n",
      "Borgundvegen168B  6008, AALESUND    62.47102613101382 N   6.20102655645523 E               4  None         ('empty', 0)  ('empty', 0)  ('empty', 0)  ('empty', 0)\n",
      "Borgundvegen168C  6008, AALESUND    62.47088407022519 N   6.201037339998814 E              4  None         ('empty', 0)  ('empty', 0)  ('empty', 0)  ('empty', 0)\n",
      "Borgundvegen169   6008, AALESUND    62.47150284793442 N   6.199806683465084 E              4  None         ('empty', 0)  ('empty', 0)  ('empty', 0)  ('empty', 0)\n",
      "Borgundvegen170A  6008, AALESUND    62.47115199000118 N   6.201569186689616 E              4  None         ('empty', 0)  ('empty', 0)  ('empty', 0)  ('empty', 0)\n",
      "Borgundvegen170B  6008, AALESUND    62.47101434245972 N   6.2015760614417115 E             4  None         ('empty', 0)  ('empty', 0)  ('empty', 0)  ('empty', 0)\n",
      "Borgundvegen171A  6008, AALESUND    62.47148061694895 N   6.200068417176022 E              4  None         ('empty', 0)  ('empty', 0)  ('empty', 0)  ('empty', 0)\n",
      "Borgundvegen171B  6008, AALESUND    62.4716731510661 N    6.199900756326654 E              4  None         ('empty', 0)  ('empty', 0)  ('empty', 0)  ('empty', 0)\n",
      "Borgundvegen173   6008, AALESUND    62.47157219158116 N   6.200576422145948 E              4  None         ('empty', 0)  ('empty', 0)  ('empty', 0)  ('empty', 0)\n",
      "Borgundvegen175   6008, AALESUND    62.471509798790336 N  6.201048008321096 E              4  None         ('empty', 0)  ('empty', 0)  ('empty', 0)  ('empty', 0)\n",
      "Borgundvegen177   6008, AALESUND    62.47153511383602 N   6.201414348971423 E              4  None         ('empty', 0)  ('empty', 0)  ('empty', 0)  ('empty', 0)\n",
      "Borgundvegen185   6008, AALESUND    62.47155609617268 N   6.202460302139358 E              4  None         ('empty', 0)  ('empty', 0)  ('empty', 0)  ('empty', 0)\n",
      "Borgundvegen199   6008, AALESUND    62.47186956365134 N   6.203902324212009 E              4  None         ('empty', 0)  ('empty', 0)  ('empty', 0)  ('empty', 0)\n",
      "Borgundvegen200   6008, AALESUND    62.47138601263859 N   6.204280961970926 E              4  None         ('empty', 0)  ('empty', 0)  ('empty', 0)  ('empty', 0)\n",
      "Borgundvegen202   6008, AALESUND    62.47144834487602 N   6.204702057818294 E              4  None         ('empty', 0)  ('empty', 0)  ('empty', 0)  ('empty', 0)\n",
      "Borgundvegen204   6008, AALESUND    62.471547313228584 N  6.20515854042454 E               4  None         ('empty', 0)  ('empty', 0)  ('empty', 0)  ('empty', 0)\n"
     ]
    }
   ],
   "source": [
    "# Note that the printed output should be empty, as we have not run the model yet.\n",
    "\n",
    "SourceBuildings = readInSources(Source)\n",
    "print(\"Table before runnning the model\")\n",
    "PrintStatistics(SourceBuildings)"
   ]
  },
  {
   "cell_type": "markdown",
   "metadata": {},
   "source": [
    "## Loading the model"
   ]
  },
  {
   "cell_type": "code",
   "execution_count": 9,
   "metadata": {},
   "outputs": [
    {
     "name": "stderr",
     "output_type": "stream",
     "text": [
      "Ultralytics YOLOv8.0.123  Python-3.10.1 torch-2.0.1+cpu CPU\n",
      "Setup complete  (8 CPUs, 15.7 GB RAM, 161.8/475.7 GB disk)\n"
     ]
    }
   ],
   "source": [
    "# More imports\n",
    "from IPython import display\n",
    "display.clear_output()\n",
    "import ultralytics\n",
    "ultralytics.checks()\n",
    "from ultralytics import YOLO\n",
    "from IPython.display import display, Image"
   ]
  },
  {
   "cell_type": "code",
   "execution_count": 10,
   "metadata": {},
   "outputs": [],
   "source": [
    "pathToModel = \"data/models/v12_larger.pt\"\n",
    "\n",
    "model = YOLO(pathToModel)"
   ]
  },
  {
   "cell_type": "markdown",
   "metadata": {},
   "source": [
    "Helpful functions, (similar to the one in `demo.ipynb`)"
   ]
  },
  {
   "cell_type": "code",
   "execution_count": 11,
   "metadata": {},
   "outputs": [],
   "source": [
    "def gradeResults(result):\n",
    "    predictions = []\n",
    "    \n",
    "    imgWidth = result[0].orig_shape[0]\n",
    "    imgHeight = result[0].orig_shape[1]\n",
    "    \n",
    "    for box in result[0].boxes:\n",
    "        predictedClass = model.names[int(box.cls)]\n",
    "        confidence = round(float(box.conf), 3)\n",
    "        \n",
    "        x, y, w, h = box.xywh[0]\n",
    "        x_offset = imgWidth/2 - (x)\n",
    "        y_offset = imgHeight/2 - (y)\n",
    "        offset = x_offset**2 + y_offset**2\n",
    "        predictions.append((predictedClass, confidence, offset))\n",
    "    # Outputs list of guesses, confidence, and offset from center.\n",
    "    return predictions\n",
    "\n",
    "def chooseTheMiddleOne(predictions):\n",
    "    if len(predictions) == 0:\n",
    "        return \"empty\", 0\n",
    "    # Sorts by offset from center\n",
    "    predictions.sort(key=lambda x: x[2])\n",
    "    \n",
    "    minAcceptableOffset = 400\n",
    "    if predictions[0][2] > minAcceptableOffset**2:\n",
    "        return \"bad\", 0\n",
    "    \n",
    "    MiddleBoxClass, confidence = predictions[0][:-1]\n",
    "    return (MiddleBoxClass, confidence)"
   ]
  },
  {
   "cell_type": "markdown",
   "metadata": {},
   "source": [
    "Making the predictions"
   ]
  },
  {
   "cell_type": "code",
   "execution_count": 12,
   "metadata": {},
   "outputs": [
    {
     "name": "stderr",
     "output_type": "stream",
     "text": [
      "\n",
      "image 1/1 c:\\Users\\elias\\kystverket\\building-colors\\yolo_implementation\\data\\buildings\\borgundvegen1\\Borgundvegen168B_6008_AALESUND_62.47102613101382_6.20102655645523_East.png: 640x640 1 grey, 3 whites, 1338.2ms\n",
      "Speed: 10.3ms preprocess, 1338.2ms inference, 2.0ms postprocess per image at shape (1, 3, 640, 640)\n",
      "\n",
      "image 1/1 c:\\Users\\elias\\kystverket\\building-colors\\yolo_implementation\\data\\buildings\\borgundvegen1\\Borgundvegen168B_6008_AALESUND_62.47102613101382_6.20102655645523_North.png: 640x640 2 greys, 1 red, 1273.3ms\n",
      "Speed: 5.0ms preprocess, 1273.3ms inference, 1.0ms postprocess per image at shape (1, 3, 640, 640)\n",
      "\n",
      "image 1/1 c:\\Users\\elias\\kystverket\\building-colors\\yolo_implementation\\data\\buildings\\borgundvegen1\\Borgundvegen168B_6008_AALESUND_62.47102613101382_6.20102655645523_South.png: 640x640 1 red, 1243.1ms\n",
      "Speed: 7.0ms preprocess, 1243.1ms inference, 1.0ms postprocess per image at shape (1, 3, 640, 640)\n",
      "\n",
      "image 1/1 c:\\Users\\elias\\kystverket\\building-colors\\yolo_implementation\\data\\buildings\\borgundvegen1\\Borgundvegen168B_6008_AALESUND_62.47102613101382_6.20102655645523_West.png: 640x640 1 brown, 2 whites, 1118.8ms\n",
      "Speed: 5.0ms preprocess, 1118.8ms inference, 1.0ms postprocess per image at shape (1, 3, 640, 640)\n",
      "\n",
      "image 1/1 c:\\Users\\elias\\kystverket\\building-colors\\yolo_implementation\\data\\buildings\\borgundvegen1\\Borgundvegen168C_6008_AALESUND_62.47088407022519_6.201037339998814_East.png: 640x640 2 greys, 3 whites, 1121.3ms\n",
      "Speed: 5.0ms preprocess, 1121.3ms inference, 1.0ms postprocess per image at shape (1, 3, 640, 640)\n",
      "\n",
      "image 1/1 c:\\Users\\elias\\kystverket\\building-colors\\yolo_implementation\\data\\buildings\\borgundvegen1\\Borgundvegen168C_6008_AALESUND_62.47088407022519_6.201037339998814_North.png: 640x640 1 grey, 1 red, 1 white, 1180.6ms\n",
      "Speed: 44.2ms preprocess, 1180.6ms inference, 1.0ms postprocess per image at shape (1, 3, 640, 640)\n",
      "\n",
      "image 1/1 c:\\Users\\elias\\kystverket\\building-colors\\yolo_implementation\\data\\buildings\\borgundvegen1\\Borgundvegen168C_6008_AALESUND_62.47088407022519_6.201037339998814_South.png: 640x640 1 brown, 1 white, 1195.5ms\n",
      "Speed: 5.4ms preprocess, 1195.5ms inference, 1.1ms postprocess per image at shape (1, 3, 640, 640)\n",
      "\n",
      "image 1/1 c:\\Users\\elias\\kystverket\\building-colors\\yolo_implementation\\data\\buildings\\borgundvegen1\\Borgundvegen168C_6008_AALESUND_62.47088407022519_6.201037339998814_West.png: 640x640 2 greys, 3 whites, 1174.5ms\n",
      "Speed: 6.0ms preprocess, 1174.5ms inference, 1.0ms postprocess per image at shape (1, 3, 640, 640)\n",
      "\n",
      "image 1/1 c:\\Users\\elias\\kystverket\\building-colors\\yolo_implementation\\data\\buildings\\borgundvegen1\\Borgundvegen169_6008_AALESUND_62.47150284793442_6.199806683465084_East.png: 640x640 4 whites, 1181.9ms\n",
      "Speed: 7.0ms preprocess, 1181.9ms inference, 1.0ms postprocess per image at shape (1, 3, 640, 640)\n",
      "\n",
      "image 1/1 c:\\Users\\elias\\kystverket\\building-colors\\yolo_implementation\\data\\buildings\\borgundvegen1\\Borgundvegen169_6008_AALESUND_62.47150284793442_6.199806683465084_North.png: 640x640 1 grey, 1 yellow, 1148.8ms\n",
      "Speed: 6.1ms preprocess, 1148.8ms inference, 1.0ms postprocess per image at shape (1, 3, 640, 640)\n",
      "\n",
      "image 1/1 c:\\Users\\elias\\kystverket\\building-colors\\yolo_implementation\\data\\buildings\\borgundvegen1\\Borgundvegen169_6008_AALESUND_62.47150284793442_6.199806683465084_South.png: 640x640 3 whites, 1 yellow, 1181.1ms\n",
      "Speed: 7.0ms preprocess, 1181.1ms inference, 2.0ms postprocess per image at shape (1, 3, 640, 640)\n",
      "\n",
      "image 1/1 c:\\Users\\elias\\kystverket\\building-colors\\yolo_implementation\\data\\buildings\\borgundvegen1\\Borgundvegen169_6008_AALESUND_62.47150284793442_6.199806683465084_West.png: 640x640 1 blue, 2 greys, 1 red, 1 white, 1185.5ms\n",
      "Speed: 4.5ms preprocess, 1185.5ms inference, 1.0ms postprocess per image at shape (1, 3, 640, 640)\n",
      "\n",
      "image 1/1 c:\\Users\\elias\\kystverket\\building-colors\\yolo_implementation\\data\\buildings\\borgundvegen1\\Borgundvegen170A_6008_AALESUND_62.47115199000118_6.201569186689616_East.png: 640x640 1 brown, 1180.5ms\n",
      "Speed: 5.0ms preprocess, 1180.5ms inference, 1.0ms postprocess per image at shape (1, 3, 640, 640)\n",
      "\n",
      "image 1/1 c:\\Users\\elias\\kystverket\\building-colors\\yolo_implementation\\data\\buildings\\borgundvegen1\\Borgundvegen170A_6008_AALESUND_62.47115199000118_6.201569186689616_North.png: 640x640 1 red, 1 white, 1189.0ms\n",
      "Speed: 4.0ms preprocess, 1189.0ms inference, 2.1ms postprocess per image at shape (1, 3, 640, 640)\n",
      "\n",
      "image 1/1 c:\\Users\\elias\\kystverket\\building-colors\\yolo_implementation\\data\\buildings\\borgundvegen1\\Borgundvegen170A_6008_AALESUND_62.47115199000118_6.201569186689616_South.png: 640x640 1 white, 1133.3ms\n",
      "Speed: 3.0ms preprocess, 1133.3ms inference, 1.1ms postprocess per image at shape (1, 3, 640, 640)\n",
      "\n",
      "image 1/1 c:\\Users\\elias\\kystverket\\building-colors\\yolo_implementation\\data\\buildings\\borgundvegen1\\Borgundvegen170A_6008_AALESUND_62.47115199000118_6.201569186689616_West.png: 640x640 2 whites, 1225.4ms\n",
      "Speed: 5.0ms preprocess, 1225.4ms inference, 0.0ms postprocess per image at shape (1, 3, 640, 640)\n",
      "\n",
      "image 1/1 c:\\Users\\elias\\kystverket\\building-colors\\yolo_implementation\\data\\buildings\\borgundvegen1\\Borgundvegen170B_6008_AALESUND_62.47101434245972_6.2015760614417115_East.png: 640x640 1 brown, 1 grey, 1 white, 1144.6ms\n",
      "Speed: 6.0ms preprocess, 1144.6ms inference, 2.0ms postprocess per image at shape (1, 3, 640, 640)\n",
      "\n",
      "image 1/1 c:\\Users\\elias\\kystverket\\building-colors\\yolo_implementation\\data\\buildings\\borgundvegen1\\Borgundvegen170B_6008_AALESUND_62.47101434245972_6.2015760614417115_North.png: 640x640 1 grey, 1 white, 1178.9ms\n",
      "Speed: 4.5ms preprocess, 1178.9ms inference, 0.0ms postprocess per image at shape (1, 3, 640, 640)\n",
      "\n",
      "image 1/1 c:\\Users\\elias\\kystverket\\building-colors\\yolo_implementation\\data\\buildings\\borgundvegen1\\Borgundvegen170B_6008_AALESUND_62.47101434245972_6.2015760614417115_South.png: 640x640 1 red, 1 white, 1136.0ms\n",
      "Speed: 7.0ms preprocess, 1136.0ms inference, 1.0ms postprocess per image at shape (1, 3, 640, 640)\n",
      "\n",
      "image 1/1 c:\\Users\\elias\\kystverket\\building-colors\\yolo_implementation\\data\\buildings\\borgundvegen1\\Borgundvegen170B_6008_AALESUND_62.47101434245972_6.2015760614417115_West.png: 640x640 2 whites, 1084.6ms\n",
      "Speed: 4.0ms preprocess, 1084.6ms inference, 1.0ms postprocess per image at shape (1, 3, 640, 640)\n",
      "\n",
      "image 1/1 c:\\Users\\elias\\kystverket\\building-colors\\yolo_implementation\\data\\buildings\\borgundvegen1\\Borgundvegen171A_6008_AALESUND_62.47148061694895_6.200068417176022_East.png: 640x640 3 whites, 1057.3ms\n",
      "Speed: 5.0ms preprocess, 1057.3ms inference, 1.0ms postprocess per image at shape (1, 3, 640, 640)\n",
      "\n",
      "image 1/1 c:\\Users\\elias\\kystverket\\building-colors\\yolo_implementation\\data\\buildings\\borgundvegen1\\Borgundvegen171A_6008_AALESUND_62.47148061694895_6.200068417176022_North.png: 640x640 1 grey, 1 yellow, 1139.5ms\n",
      "Speed: 5.0ms preprocess, 1139.5ms inference, 1.0ms postprocess per image at shape (1, 3, 640, 640)\n",
      "\n",
      "image 1/1 c:\\Users\\elias\\kystverket\\building-colors\\yolo_implementation\\data\\buildings\\borgundvegen1\\Borgundvegen171A_6008_AALESUND_62.47148061694895_6.200068417176022_South.png: 640x640 2 greys, 3 whites, 1042.8ms\n",
      "Speed: 7.0ms preprocess, 1042.8ms inference, 1.0ms postprocess per image at shape (1, 3, 640, 640)\n",
      "\n",
      "image 1/1 c:\\Users\\elias\\kystverket\\building-colors\\yolo_implementation\\data\\buildings\\borgundvegen1\\Borgundvegen171A_6008_AALESUND_62.47148061694895_6.200068417176022_West.png: 640x640 1 brown, 2 greys, 2 whites, 1131.8ms\n",
      "Speed: 4.0ms preprocess, 1131.8ms inference, 1.0ms postprocess per image at shape (1, 3, 640, 640)\n",
      "\n",
      "image 1/1 c:\\Users\\elias\\kystverket\\building-colors\\yolo_implementation\\data\\buildings\\borgundvegen1\\Borgundvegen171B_6008_AALESUND_62.4716731510661_6.199900756326654_East.png: 640x640 1 brown, 3 whites, 1063.3ms\n",
      "Speed: 5.0ms preprocess, 1063.3ms inference, 1.0ms postprocess per image at shape (1, 3, 640, 640)\n",
      "\n",
      "image 1/1 c:\\Users\\elias\\kystverket\\building-colors\\yolo_implementation\\data\\buildings\\borgundvegen1\\Borgundvegen171B_6008_AALESUND_62.4716731510661_6.199900756326654_North.png: 640x640 1 grey, 1 yellow, 1049.9ms\n",
      "Speed: 7.0ms preprocess, 1049.9ms inference, 1.0ms postprocess per image at shape (1, 3, 640, 640)\n",
      "\n",
      "image 1/1 c:\\Users\\elias\\kystverket\\building-colors\\yolo_implementation\\data\\buildings\\borgundvegen1\\Borgundvegen171B_6008_AALESUND_62.4716731510661_6.199900756326654_South.png: 640x640 2 whites, 1097.0ms\n",
      "Speed: 6.0ms preprocess, 1097.0ms inference, 1.0ms postprocess per image at shape (1, 3, 640, 640)\n",
      "\n",
      "image 1/1 c:\\Users\\elias\\kystverket\\building-colors\\yolo_implementation\\data\\buildings\\borgundvegen1\\Borgundvegen171B_6008_AALESUND_62.4716731510661_6.199900756326654_West.png: 640x640 1 blue, 1 brown, 2 greys, 2 whites, 1158.4ms\n",
      "Speed: 4.9ms preprocess, 1158.4ms inference, 1.0ms postprocess per image at shape (1, 3, 640, 640)\n",
      "\n",
      "image 1/1 c:\\Users\\elias\\kystverket\\building-colors\\yolo_implementation\\data\\buildings\\borgundvegen1\\Borgundvegen173_6008_AALESUND_62.47157219158116_6.200576422145948_East.png: 640x640 1 brown, 2 whites, 1079.4ms\n",
      "Speed: 5.0ms preprocess, 1079.4ms inference, 1.0ms postprocess per image at shape (1, 3, 640, 640)\n",
      "\n",
      "image 1/1 c:\\Users\\elias\\kystverket\\building-colors\\yolo_implementation\\data\\buildings\\borgundvegen1\\Borgundvegen173_6008_AALESUND_62.47157219158116_6.200576422145948_North.png: 640x640 (no detections), 1017.3ms\n",
      "Speed: 5.1ms preprocess, 1017.3ms inference, 1.0ms postprocess per image at shape (1, 3, 640, 640)\n",
      "\n",
      "image 1/1 c:\\Users\\elias\\kystverket\\building-colors\\yolo_implementation\\data\\buildings\\borgundvegen1\\Borgundvegen173_6008_AALESUND_62.47157219158116_6.200576422145948_South.png: 640x640 1 black, 1 darkgrey, 1 white, 1033.2ms\n",
      "Speed: 4.7ms preprocess, 1033.2ms inference, 1.0ms postprocess per image at shape (1, 3, 640, 640)\n",
      "\n",
      "image 1/1 c:\\Users\\elias\\kystverket\\building-colors\\yolo_implementation\\data\\buildings\\borgundvegen1\\Borgundvegen173_6008_AALESUND_62.47157219158116_6.200576422145948_West.png: 640x640 2 browns, 2 whites, 1053.4ms\n",
      "Speed: 5.0ms preprocess, 1053.4ms inference, 0.0ms postprocess per image at shape (1, 3, 640, 640)\n",
      "\n",
      "image 1/1 c:\\Users\\elias\\kystverket\\building-colors\\yolo_implementation\\data\\buildings\\borgundvegen1\\Borgundvegen175_6008_AALESUND_62.471509798790336_6.201048008321096_East.png: 640x640 1 brown, 1 white, 1 yellow, 1149.4ms\n",
      "Speed: 4.0ms preprocess, 1149.4ms inference, 1.0ms postprocess per image at shape (1, 3, 640, 640)\n",
      "\n",
      "image 1/1 c:\\Users\\elias\\kystverket\\building-colors\\yolo_implementation\\data\\buildings\\borgundvegen1\\Borgundvegen175_6008_AALESUND_62.471509798790336_6.201048008321096_North.png: 640x640 1 yellow, 1044.7ms\n",
      "Speed: 4.0ms preprocess, 1044.7ms inference, 1.0ms postprocess per image at shape (1, 3, 640, 640)\n",
      "\n",
      "image 1/1 c:\\Users\\elias\\kystverket\\building-colors\\yolo_implementation\\data\\buildings\\borgundvegen1\\Borgundvegen175_6008_AALESUND_62.471509798790336_6.201048008321096_South.png: 640x640 2 whites, 1 yellow, 1115.4ms\n",
      "Speed: 6.0ms preprocess, 1115.4ms inference, 1.0ms postprocess per image at shape (1, 3, 640, 640)\n",
      "\n",
      "image 1/1 c:\\Users\\elias\\kystverket\\building-colors\\yolo_implementation\\data\\buildings\\borgundvegen1\\Borgundvegen175_6008_AALESUND_62.471509798790336_6.201048008321096_West.png: 640x640 1 green, 1 white, 1 yellow, 1116.7ms\n",
      "Speed: 4.0ms preprocess, 1116.7ms inference, 1.0ms postprocess per image at shape (1, 3, 640, 640)\n",
      "\n",
      "image 1/1 c:\\Users\\elias\\kystverket\\building-colors\\yolo_implementation\\data\\buildings\\borgundvegen1\\Borgundvegen177_6008_AALESUND_62.47153511383602_6.201414348971423_East.png: 640x640 1 white, 1 yellow, 1145.3ms\n",
      "Speed: 4.0ms preprocess, 1145.3ms inference, 2.0ms postprocess per image at shape (1, 3, 640, 640)\n",
      "\n",
      "image 1/1 c:\\Users\\elias\\kystverket\\building-colors\\yolo_implementation\\data\\buildings\\borgundvegen1\\Borgundvegen177_6008_AALESUND_62.47153511383602_6.201414348971423_North.png: 640x640 1 yellow, 1182.4ms\n",
      "Speed: 7.0ms preprocess, 1182.4ms inference, 1.0ms postprocess per image at shape (1, 3, 640, 640)\n",
      "\n",
      "image 1/1 c:\\Users\\elias\\kystverket\\building-colors\\yolo_implementation\\data\\buildings\\borgundvegen1\\Borgundvegen177_6008_AALESUND_62.47153511383602_6.201414348971423_South.png: 640x640 2 whites, 1 yellow, 1134.4ms\n",
      "Speed: 6.0ms preprocess, 1134.4ms inference, 0.0ms postprocess per image at shape (1, 3, 640, 640)\n",
      "\n",
      "image 1/1 c:\\Users\\elias\\kystverket\\building-colors\\yolo_implementation\\data\\buildings\\borgundvegen1\\Borgundvegen177_6008_AALESUND_62.47153511383602_6.201414348971423_West.png: 640x640 1 green, 1 white, 1 yellow, 1062.2ms\n",
      "Speed: 6.0ms preprocess, 1062.2ms inference, 1.0ms postprocess per image at shape (1, 3, 640, 640)\n",
      "\n",
      "image 1/1 c:\\Users\\elias\\kystverket\\building-colors\\yolo_implementation\\data\\buildings\\borgundvegen1\\Borgundvegen185_6008_AALESUND_62.47155609617268_6.202460302139358_East.png: 640x640 1 grey, 1 white, 1038.0ms\n",
      "Speed: 5.0ms preprocess, 1038.0ms inference, 1.0ms postprocess per image at shape (1, 3, 640, 640)\n",
      "\n",
      "image 1/1 c:\\Users\\elias\\kystverket\\building-colors\\yolo_implementation\\data\\buildings\\borgundvegen1\\Borgundvegen185_6008_AALESUND_62.47155609617268_6.202460302139358_North.png: 640x640 1 white, 1150.0ms\n",
      "Speed: 4.0ms preprocess, 1150.0ms inference, 1.0ms postprocess per image at shape (1, 3, 640, 640)\n",
      "\n",
      "image 1/1 c:\\Users\\elias\\kystverket\\building-colors\\yolo_implementation\\data\\buildings\\borgundvegen1\\Borgundvegen185_6008_AALESUND_62.47155609617268_6.202460302139358_South.png: 640x640 2 whites, 1063.8ms\n",
      "Speed: 5.0ms preprocess, 1063.8ms inference, 1.0ms postprocess per image at shape (1, 3, 640, 640)\n",
      "\n",
      "image 1/1 c:\\Users\\elias\\kystverket\\building-colors\\yolo_implementation\\data\\buildings\\borgundvegen1\\Borgundvegen185_6008_AALESUND_62.47155609617268_6.202460302139358_West.png: 640x640 (no detections), 1014.7ms\n",
      "Speed: 7.1ms preprocess, 1014.7ms inference, 0.0ms postprocess per image at shape (1, 3, 640, 640)\n",
      "\n",
      "image 1/1 c:\\Users\\elias\\kystverket\\building-colors\\yolo_implementation\\data\\buildings\\borgundvegen1\\Borgundvegen199_6008_AALESUND_62.47186956365134_6.203902324212009_East.png: 640x640 (no detections), 1040.9ms\n",
      "Speed: 5.0ms preprocess, 1040.9ms inference, 0.0ms postprocess per image at shape (1, 3, 640, 640)\n",
      "\n",
      "image 1/1 c:\\Users\\elias\\kystverket\\building-colors\\yolo_implementation\\data\\buildings\\borgundvegen1\\Borgundvegen199_6008_AALESUND_62.47186956365134_6.203902324212009_North.png: 640x640 1 blue, 1 grey, 1 red, 1113.9ms\n",
      "Speed: 5.0ms preprocess, 1113.9ms inference, 1.0ms postprocess per image at shape (1, 3, 640, 640)\n",
      "\n",
      "image 1/1 c:\\Users\\elias\\kystverket\\building-colors\\yolo_implementation\\data\\buildings\\borgundvegen1\\Borgundvegen199_6008_AALESUND_62.47186956365134_6.203902324212009_South.png: 640x640 1 red, 1 white, 1164.8ms\n",
      "Speed: 6.0ms preprocess, 1164.8ms inference, 1.0ms postprocess per image at shape (1, 3, 640, 640)\n",
      "\n",
      "image 1/1 c:\\Users\\elias\\kystverket\\building-colors\\yolo_implementation\\data\\buildings\\borgundvegen1\\Borgundvegen199_6008_AALESUND_62.47186956365134_6.203902324212009_West.png: 640x640 1 blue, 1 white, 1028.2ms\n",
      "Speed: 6.0ms preprocess, 1028.2ms inference, 1.0ms postprocess per image at shape (1, 3, 640, 640)\n",
      "\n",
      "image 1/1 c:\\Users\\elias\\kystverket\\building-colors\\yolo_implementation\\data\\buildings\\borgundvegen1\\Borgundvegen200_6008_AALESUND_62.47138601263859_6.204280961970926_East.png: 640x640 1 blue, 1093.8ms\n",
      "Speed: 3.9ms preprocess, 1093.8ms inference, 0.0ms postprocess per image at shape (1, 3, 640, 640)\n",
      "\n",
      "image 1/1 c:\\Users\\elias\\kystverket\\building-colors\\yolo_implementation\\data\\buildings\\borgundvegen1\\Borgundvegen200_6008_AALESUND_62.47138601263859_6.204280961970926_North.png: 640x640 1 grey, 1 white, 1087.9ms\n",
      "Speed: 5.0ms preprocess, 1087.9ms inference, 1.0ms postprocess per image at shape (1, 3, 640, 640)\n",
      "\n",
      "image 1/1 c:\\Users\\elias\\kystverket\\building-colors\\yolo_implementation\\data\\buildings\\borgundvegen1\\Borgundvegen200_6008_AALESUND_62.47138601263859_6.204280961970926_South.png: 640x640 1 blue, 1 white, 1094.4ms\n",
      "Speed: 5.0ms preprocess, 1094.4ms inference, 1.0ms postprocess per image at shape (1, 3, 640, 640)\n",
      "\n",
      "image 1/1 c:\\Users\\elias\\kystverket\\building-colors\\yolo_implementation\\data\\buildings\\borgundvegen1\\Borgundvegen200_6008_AALESUND_62.47138601263859_6.204280961970926_West.png: 640x640 1 blue, 1 grey, 1 white, 1113.5ms\n",
      "Speed: 5.0ms preprocess, 1113.5ms inference, 1.0ms postprocess per image at shape (1, 3, 640, 640)\n",
      "\n",
      "image 1/1 c:\\Users\\elias\\kystverket\\building-colors\\yolo_implementation\\data\\buildings\\borgundvegen1\\Borgundvegen202_6008_AALESUND_62.47144834487602_6.204702057818294_East.png: 640x640 1 blue, 1 grey, 1088.8ms\n",
      "Speed: 5.0ms preprocess, 1088.8ms inference, 1.0ms postprocess per image at shape (1, 3, 640, 640)\n",
      "\n",
      "image 1/1 c:\\Users\\elias\\kystverket\\building-colors\\yolo_implementation\\data\\buildings\\borgundvegen1\\Borgundvegen202_6008_AALESUND_62.47144834487602_6.204702057818294_North.png: 640x640 3 whites, 1010.4ms\n",
      "Speed: 5.0ms preprocess, 1010.4ms inference, 1.0ms postprocess per image at shape (1, 3, 640, 640)\n",
      "\n",
      "image 1/1 c:\\Users\\elias\\kystverket\\building-colors\\yolo_implementation\\data\\buildings\\borgundvegen1\\Borgundvegen202_6008_AALESUND_62.47144834487602_6.204702057818294_South.png: 640x640 1 blue, 1 white, 1116.3ms\n",
      "Speed: 3.9ms preprocess, 1116.3ms inference, 0.0ms postprocess per image at shape (1, 3, 640, 640)\n",
      "\n",
      "image 1/1 c:\\Users\\elias\\kystverket\\building-colors\\yolo_implementation\\data\\buildings\\borgundvegen1\\Borgundvegen202_6008_AALESUND_62.47144834487602_6.204702057818294_West.png: 640x640 1 blue, 1 darkgrey, 1 grey, 1111.3ms\n",
      "Speed: 6.0ms preprocess, 1111.3ms inference, 1.0ms postprocess per image at shape (1, 3, 640, 640)\n",
      "\n",
      "image 1/1 c:\\Users\\elias\\kystverket\\building-colors\\yolo_implementation\\data\\buildings\\borgundvegen1\\Borgundvegen204_6008_AALESUND_62.471547313228584_6.20515854042454_East.png: 640x640 1 blue, 2 greys, 1 white, 1 yellow, 1107.1ms\n",
      "Speed: 5.0ms preprocess, 1107.1ms inference, 1.0ms postprocess per image at shape (1, 3, 640, 640)\n",
      "\n",
      "image 1/1 c:\\Users\\elias\\kystverket\\building-colors\\yolo_implementation\\data\\buildings\\borgundvegen1\\Borgundvegen204_6008_AALESUND_62.471547313228584_6.20515854042454_North.png: 640x640 2 whites, 1185.9ms\n",
      "Speed: 4.0ms preprocess, 1185.9ms inference, 1.0ms postprocess per image at shape (1, 3, 640, 640)\n",
      "\n",
      "image 1/1 c:\\Users\\elias\\kystverket\\building-colors\\yolo_implementation\\data\\buildings\\borgundvegen1\\Borgundvegen204_6008_AALESUND_62.471547313228584_6.20515854042454_South.png: 640x640 1 grey, 3 whites, 1166.8ms\n",
      "Speed: 6.0ms preprocess, 1166.8ms inference, 1.0ms postprocess per image at shape (1, 3, 640, 640)\n",
      "\n",
      "image 1/1 c:\\Users\\elias\\kystverket\\building-colors\\yolo_implementation\\data\\buildings\\borgundvegen1\\Borgundvegen204_6008_AALESUND_62.471547313228584_6.20515854042454_West.png: 640x640 1 green, 1 grey, 1 white, 1 yellow, 1242.6ms\n",
      "Speed: 3.0ms preprocess, 1242.6ms inference, 1.0ms postprocess per image at shape (1, 3, 640, 640)\n"
     ]
    }
   ],
   "source": [
    "for building in SourceBuildings.values():\n",
    "    for filename in building.filenames:\n",
    "        ProcessedImage = model(filename)\n",
    "        gradedPredictions = gradeResults(ProcessedImage)\n",
    "        pred = chooseTheMiddleOne(gradedPredictions)\n",
    "        building.addPrediction(filename, pred)\n",
    "    building.MakePrediction()"
   ]
  },
  {
   "cell_type": "code",
   "execution_count": 13,
   "metadata": {},
   "outputs": [
    {
     "name": "stdout",
     "output_type": "stream",
     "text": [
      "Address           Postal address    Lat                   Long                    Directions  Predicted    North              East               West               South\n",
      "----------------  ----------------  --------------------  --------------------  ------------  -----------  -----------------  -----------------  -----------------  ----------------\n",
      "Borgundvegen168B  6008, AALESUND    62.47102613101382 N   6.20102655645523 E               4  white        ('grey', 0.306)    ('white', 0.389)   ('brown', 0.263)   ('bad', 0)\n",
      "Borgundvegen168C  6008, AALESUND    62.47088407022519 N   6.201037339998814 E              4  white        ('white', 0.414)   ('grey', 0.267)    ('white', 0.329)   ('brown', 0.255)\n",
      "Borgundvegen169   6008, AALESUND    62.47150284793442 N   6.199806683465084 E              4  white        ('grey', 0.498)    ('white', 0.803)   ('blue', 0.754)    ('white', 0.801)\n",
      "Borgundvegen170A  6008, AALESUND    62.47115199000118 N   6.201569186689616 E              4  white        ('white', 0.361)   ('brown', 0.562)   ('white', 0.625)   ('white', 0.801)\n",
      "Borgundvegen170B  6008, AALESUND    62.47101434245972 N   6.2015760614417115 E             4  white        ('white', 0.34)    ('brown', 0.683)   ('white', 0.599)   ('white', 0.709)\n",
      "Borgundvegen171A  6008, AALESUND    62.47148061694895 N   6.200068417176022 E              4  white        ('yellow', 0.728)  ('white', 0.856)   ('grey', 0.352)    ('grey', 0.419)\n",
      "Borgundvegen171B  6008, AALESUND    62.4716731510661 N    6.199900756326654 E              4  white        ('yellow', 0.437)  ('white', 0.839)   ('white', 0.469)   ('white', 0.818)\n",
      "Borgundvegen173   6008, AALESUND    62.47157219158116 N   6.200576422145948 E              4  brown        ('empty', 0)       ('brown', 0.624)   ('brown', 0.4)     ('black', 0.261)\n",
      "Borgundvegen175   6008, AALESUND    62.471509798790336 N  6.201048008321096 E              4  white        ('yellow', 0.866)  ('white', 0.685)   ('white', 0.749)   ('white', 0.8)\n",
      "Borgundvegen177   6008, AALESUND    62.47153511383602 N   6.201414348971423 E              4  yellow       ('yellow', 0.79)   ('yellow', 0.871)  ('yellow', 0.308)  ('white', 0.701)\n",
      "Borgundvegen185   6008, AALESUND    62.47155609617268 N   6.202460302139358 E              4  white        ('white', 0.936)   ('grey', 0.317)    ('empty', 0)       ('white', 0.903)\n",
      "Borgundvegen199   6008, AALESUND    62.47186956365134 N   6.203902324212009 E              4  white        ('bad', 0)         ('empty', 0)       ('bad', 0)         ('white', 0.321)\n",
      "Borgundvegen200   6008, AALESUND    62.47138601263859 N   6.204280961970926 E              4  blue         ('grey', 0.373)    ('blue', 0.89)     ('blue', 0.835)    ('blue', 0.734)\n",
      "Borgundvegen202   6008, AALESUND    62.47144834487602 N   6.204702057818294 E              4  white        ('white', 0.785)   ('blue', 0.832)    ('grey', 0.563)    ('white', 0.783)\n",
      "Borgundvegen204   6008, AALESUND    62.471547313228584 N  6.20515854042454 E               4  white        ('white', 0.594)   ('grey', 0.331)    ('grey', 0.337)    ('white', 0.636)\n"
     ]
    }
   ],
   "source": [
    "PrintStatistics(SourceBuildings)"
   ]
  },
  {
   "cell_type": "code",
   "execution_count": 26,
   "metadata": {},
   "outputs": [],
   "source": [
    "import json\n",
    "\n",
    "def DumpResults(Buildings, filename):\n",
    "    DumpDictionary = {}\n",
    "    for addr in Buildings:\n",
    "      DumpDictionary[addr] = Buildings[addr].getDumpformat()\n",
    "    with open(f'{filename}_results.json', 'w') as fp:\n",
    "        json.dump(DumpDictionary, fp)"
   ]
  },
  {
   "cell_type": "markdown",
   "metadata": {},
   "source": [
    "Save the output to a .json file. To view the results in a nice format use the `load_json.ipynb` program."
   ]
  },
  {
   "cell_type": "code",
   "execution_count": 27,
   "metadata": {},
   "outputs": [],
   "source": [
    "path = \"data/json/test\"\n",
    "DumpResults(SourceBuildings, path)"
   ]
  }
 ],
 "metadata": {
  "kernelspec": {
   "display_name": "Python 3",
   "language": "python",
   "name": "python3"
  },
  "language_info": {
   "codemirror_mode": {
    "name": "ipython",
    "version": 3
   },
   "file_extension": ".py",
   "mimetype": "text/x-python",
   "name": "python",
   "nbconvert_exporter": "python",
   "pygments_lexer": "ipython3",
   "version": "3.10.1"
  },
  "orig_nbformat": 4
 },
 "nbformat": 4,
 "nbformat_minor": 2
}
