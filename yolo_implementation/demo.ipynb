{
 "cells": [
  {
   "cell_type": "markdown",
   "metadata": {},
   "source": [
    "# Using the model on images"
   ]
  },
  {
   "cell_type": "markdown",
   "metadata": {},
   "source": [
    "In order to get an overview of the project, we recommend reading the [README.md](README.md) file."
   ]
  },
  {
   "cell_type": "markdown",
   "metadata": {},
   "source": [
    "First we need some imports:\n",
    "* we use ultralytics yolov8 \n",
    "* we have already trained a models which we use (the pt files)\n",
    "* we use Images from IPython\n",
    "* os is used to get lists of what is contained inside folders"
   ]
  },
  {
   "cell_type": "code",
   "execution_count": null,
   "metadata": {},
   "outputs": [],
   "source": [
    "import ultralytics\n",
    "ultralytics.checks()\n",
    "from ultralytics import YOLO\n",
    "from IPython.display import display, Image\n",
    "import os"
   ]
  },
  {
   "cell_type": "markdown",
   "metadata": {},
   "source": [
    "The different models we have are printed below. The `v12` models are trained to both detect buildings and classify the color. The `building_superclass.pt` model is trained to detect all buildings in general, and can be used for further development if you want to use another, more accurate approach to classify the color."
   ]
  },
  {
   "cell_type": "code",
   "execution_count": null,
   "metadata": {},
   "outputs": [],
   "source": [
    "rel_model_path = \"data/models\"\n",
    "options = os.listdir(rel_model_path)\n",
    "print(f\"Options: {options}\")"
   ]
  },
  {
   "cell_type": "markdown",
   "metadata": {},
   "source": [
    "Loading in the model weights in one line"
   ]
  },
  {
   "cell_type": "code",
   "execution_count": null,
   "metadata": {},
   "outputs": [],
   "source": [
    "model = YOLO(f\"{rel_model_path}/v12_larger.pt\")"
   ]
  },
  {
   "cell_type": "markdown",
   "metadata": {},
   "source": [
    "Showing an easy example of predicting an example image"
   ]
  },
  {
   "cell_type": "code",
   "execution_count": null,
   "metadata": {},
   "outputs": [],
   "source": [
    "rel_building_path = \"data/buildings\"\n",
    "img_path = f\"{rel_building_path}/examples/image.png\"\n",
    "ClassifiedImage = model(img_path, save=True, project=\"./outputs\", name=\"saved_image\")\n",
    "\n",
    "# In order to not save:\n",
    "# ClassifiedImage = model(img_path)"
   ]
  },
  {
   "cell_type": "code",
   "execution_count": null,
   "metadata": {},
   "outputs": [],
   "source": [
    "# Show the image\n",
    "Image(filename=f\"outputs/saved_image/image.png\")"
   ]
  },
  {
   "cell_type": "markdown",
   "metadata": {},
   "source": [
    "Example of how one can collect and print boxes from the result "
   ]
  },
  {
   "cell_type": "code",
   "execution_count": null,
   "metadata": {},
   "outputs": [],
   "source": [
    "for result in ClassifiedImage:\n",
    "    # Dimensions of the image\n",
    "    print(result.orig_shape)\n",
    "    imgWidth = result.orig_shape[0]\n",
    "    imgHeight = result.orig_shape[1]\n",
    "    for box in result.boxes:\n",
    "        x, y, w, h = box.xywh[0]\n",
    "        predictedClass = model.names[int(box.cls)]\n",
    "        confidence = round(float(box.conf), 3)\n",
    "        print(f\"Class: {predictedClass}, confidence: {confidence}\")\n",
    "        print(f\"Left {x}, Top {y}, Width {w}, Height {h}\")\n",
    "        \n",
    "        # Want a measure of how far away the box is from the center of the image\n",
    "        x_offset = imgWidth/2 - (x + w/2)\n",
    "        y_offset = imgHeight/2 - (y + h/2)\n",
    "        print(f\"Offset from center: {abs(x_offset)+ abs(y_offset)}\")\n",
    "        print()"
   ]
  },
  {
   "cell_type": "markdown",
   "metadata": {},
   "source": [
    "In order to get a sense of how good the boxes are, we pick the one with the least offset from the center, using euclidean distance. We also print the confidence of the box. This is the confidence of the model that the box contains a building."
   ]
  },
  {
   "cell_type": "code",
   "execution_count": null,
   "metadata": {},
   "outputs": [],
   "source": [
    "def gradeResults(result):\n",
    "    predictions = []\n",
    "    \n",
    "    imgWidth = result[0].orig_shape[0]\n",
    "    imgHeight = result[0].orig_shape[1]\n",
    "    \n",
    "    for box in result[0].boxes:\n",
    "        predictedClass = model.names[int(box.cls)]\n",
    "        confidence = round(float(box.conf), 3)\n",
    "        \n",
    "        x, y, w, h = box.xywh[0]\n",
    "        x_offset = imgWidth/2 - (x)\n",
    "        y_offset = imgHeight/2 - (y)\n",
    "        offset =  x_offset**2 + y_offset**2\n",
    "        predictions.append((predictedClass, confidence, offset))\n",
    "    # Outputs list of guesses, confidence, and offset from center.\n",
    "    return predictions"
   ]
  },
  {
   "cell_type": "code",
   "execution_count": null,
   "metadata": {},
   "outputs": [],
   "source": [
    "def chooseTheMiddleOne(predictions):\n",
    "    if len(predictions) == 0:\n",
    "        return \"empty\"\n",
    "    # Sorts by offset from center\n",
    "    predictions.sort(key=lambda x: x[2])\n",
    "    \n",
    "    minAcceptableOffset = 200\n",
    "    if predictions[0][2] > minAcceptableOffset**2:\n",
    "        return \"bad\"\n",
    "    \n",
    "    MiddleBoxClass = predictions[0][0]\n",
    "    return MiddleBoxClass, predictions[0][1]"
   ]
  },
  {
   "cell_type": "code",
   "execution_count": null,
   "metadata": {},
   "outputs": [],
   "source": [
    "example_predictions = gradeResults(ClassifiedImage)\n",
    "predicted_color = chooseTheMiddleOne(example_predictions)\n",
    "print(f\"Predicted Color of {img_path} was {predicted_color}\")"
   ]
  },
  {
   "cell_type": "markdown",
   "metadata": {},
   "source": [
    "Example using the model on the four cardinal directions"
   ]
  },
  {
   "cell_type": "code",
   "execution_count": null,
   "metadata": {},
   "outputs": [],
   "source": [
    "predictions = []\n",
    "for i in range(1, 5):\n",
    "    PathToImage = f\"{rel_building_path}/four_directions_1/{str(i)}.png\"\n",
    "    result = model(PathToImage)\n",
    "    pred = gradeResults(result)\n",
    "    predictedClass = chooseTheMiddleOne(pred)\n",
    "    predictions.append(predictedClass)\n",
    "    \n",
    "# Make the predicted boxes visible in order to check the predictions\n",
    "folder_path = f\"{rel_building_path}/four_directions_1\"\n",
    "model(folder_path, save=True, project=\"./outputs\", name=\"four_dir_1\")\n",
    "\n",
    "print(f\"The resulting predictions: {predictions}\")\n",
    "\n",
    "display(Image(filename=f\"outputs/four_dir_1/1.png\", height=100))\n",
    "display(Image(filename=f\"outputs/four_dir_1/2.png\", height=100))\n",
    "display(Image(filename=f\"outputs/four_dir_1/3.png\", height=100))\n",
    "display(Image(filename=f\"outputs/four_dir_1/4.png\", height=100))"
   ]
  },
  {
   "cell_type": "markdown",
   "metadata": {},
   "source": [
    "Same with different test set"
   ]
  },
  {
   "cell_type": "code",
   "execution_count": null,
   "metadata": {},
   "outputs": [],
   "source": [
    "# predictions = []\n",
    "# for i in range(1, 5):\n",
    "#     PathToImage = f\"{rel_building_path}/four_directions_2/{str(i)}.png\"\n",
    "#     result = model(PathToImage)\n",
    "#     pred = gradeResults(result)\n",
    "#     predictedClass = chooseTheMiddleOne(pred)\n",
    "#     predictions.append(predictedClass)\n",
    "    \n",
    "# # Make the predicted boxes visible in order to check the predictions\n",
    "# folder_path = f\"{rel_building_path}/four_directions_2\"\n",
    "# model(folder_path, save=True, project=\"./outputs\", name=\"four_dir_2\")\n",
    "\n",
    "# print(f\"The resulting predictions: {predictions}\")\n",
    "\n",
    "# display(Image(filename=f\"outputs/four_dir_2/1.png\", height=100))\n",
    "# display(Image(filename=f\"outputs/four_dir_2/2.png\", height=100))\n",
    "# display(Image(filename=f\"outputs/four_dir_2/3.png\", height=100))\n",
    "# display(Image(filename=f\"outputs/four_dir_2/4.png\", height=100))"
   ]
  },
  {
   "cell_type": "markdown",
   "metadata": {},
   "source": [
    "Testing on a Drone video. This will take very long time to run, so we recommend to run it on Google Colab.\n"
   ]
  },
  {
   "cell_type": "code",
   "execution_count": null,
   "metadata": {},
   "outputs": [],
   "source": [
    "# model = YOLO(\"data/models/v12_smaller.pt\")\n",
    "# output = model(\"data/video/demo_drone.mp4\", save=True, project=\"./outputs\", name=\"drone_v12_smaller\")\n",
    "\n",
    "# Model for finding the buildings, without caring about the class\n",
    "# model = YOLO(\"data/models/building_detection.pt\")\n",
    "# output = model(\"data/video/demo_drone.mp4\", save=True, project=\"./outputs\", name=\"drone_building_detection\")"
   ]
  }
 ],
 "metadata": {
  "kernelspec": {
   "display_name": "Python 3",
   "language": "python",
   "name": "python3"
  },
  "language_info": {
   "codemirror_mode": {
    "name": "ipython",
    "version": 3
   },
   "file_extension": ".py",
   "mimetype": "text/x-python",
   "name": "python",
   "nbconvert_exporter": "python",
   "pygments_lexer": "ipython3",
   "version": "3.10.1"
  },
  "orig_nbformat": 4
 },
 "nbformat": 4,
 "nbformat_minor": 2
}
